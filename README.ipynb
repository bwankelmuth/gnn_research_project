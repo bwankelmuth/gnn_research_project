{
 "cells": [
  {
   "cell_type": "markdown",
   "metadata": {},
   "source": [
    "# GNN research project\n",
    "\n",
    "The individual folders contain all notebooks, files and datasets belonging to the GNN research project. "
   ]
  },
  {
   "cell_type": "markdown",
   "metadata": {},
   "source": [
    "## Installation\n",
    "\n",
    "Install the dependency using the following command.\n",
    "\n",
    "`pip install -r requirements.txt`"
   ]
  },
  {
   "cell_type": "markdown",
   "metadata": {},
   "source": [
    "## Folder structure\n",
    "\n",
    "This project folder is structured the same way as section 4 *Research project: Graph Neural Networks with Economic Applications* of the master's thesis. Specifically, the 7 folders contain the following:\n",
    "\n",
    "* `0_raw_data`: the raw data and web scraping notebooks described in section 4.1 of the master's thesis.\n",
    "* `1_data_processing`: the notebooks containing the data preparation and creation of new datasets both explained in section 4.2 of the master's thesis.\n",
    "* `2_graph_generation`: the notebook containing the graph generation presented in section 4.3 of the master's thesis.\n",
    "* `3_influencer_determination`: the notebook in which the influencer determination from section 4.4 of the master's thesis is carried out.\n",
    "* `4_node_classification`: the notebooks implementing the node classification baselines and GNNs from section 4.5 of the master's thesis.\n",
    "* `5_link_prediction`: the notebooks implementing the link prediction baselines and GNNs from section 4.6 of the master's thesis.\n",
    "* `6_time_series_forecasting`: the notebooks implementing the time series forecasting baselines and GNN from section 4.7 of the master's thesis"
   ]
  }
 ],
 "metadata": {
  "kernelspec": {
   "display_name": "Python 3",
   "language": "python",
   "name": "python3"
  },
  "language_info": {
   "codemirror_mode": {
    "name": "ipython",
    "version": 3
   },
   "file_extension": ".py",
   "mimetype": "text/x-python",
   "name": "python",
   "nbconvert_exporter": "python",
   "pygments_lexer": "ipython3",
   "version": "3.8.5"
  }
 },
 "nbformat": 4,
 "nbformat_minor": 4
}
